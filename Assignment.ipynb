{
 "cells": [
  {
   "cell_type": "code",
   "execution_count": 13,
   "metadata": {},
   "outputs": [],
   "source": [
    "#Question 1"
   ]
  },
  {
   "cell_type": "code",
   "execution_count": 20,
   "metadata": {},
   "outputs": [
    {
     "name": "stdout",
     "output_type": "stream",
     "text": [
      "45/89\n",
      "89/45\n"
     ]
    }
   ],
   "source": [
    "a=input()\n",
    "b=a.split(\"/\")\n",
    "print(b[1]+\"/\"+b[0])"
   ]
  },
  {
   "cell_type": "code",
   "execution_count": 12,
   "metadata": {},
   "outputs": [],
   "source": [
    "# question 2"
   ]
  },
  {
   "cell_type": "code",
   "execution_count": 11,
   "metadata": {
    "scrolled": false
   },
   "outputs": [
    {
     "name": "stdout",
     "output_type": "stream",
     "text": [
      "1/5\n",
      "7/8\n",
      "8/9\n",
      "4/7\n",
      "7/8\n",
      "4/5\n",
      "4/6\n",
      "7/9\n",
      "2/8\n",
      "1/5 7/8 8/9 \n",
      "\n",
      "4/7 7/8 4/5 \n",
      "\n",
      "4/6 7/9 2/8 \n",
      "\n",
      "1/5 4/7 4/6 \n",
      "\n",
      "7/8 7/8 7/9 \n",
      "\n",
      "8/9 4/5 2/8 \n",
      "\n",
      "424/320\n"
     ]
    }
   ],
   "source": [
    "def arr(a,r,c):\n",
    "    for i in range(r):\n",
    "        for j in range(c):\n",
    "            t=input()\n",
    "            d=t.split(\"/\")\n",
    "            a[i][j]=d        \n",
    "def tran(a,r,c):\n",
    "    for i in range(r):\n",
    "        for j in range(c):\n",
    "            print(a[j][i][0]+\"/\"+a[j][i][1],end=\" \")\n",
    "        print(\"\\n\")    \n",
    "            \n",
    "def tr(a):\n",
    "    p = (int(a[0][0][0])*int(a[1][1][1])*int(a[2][2][1]))+(int(a[0][0][1])*int(a[1][1][0])*int(a[2][2][1]))+(int(a[0][0][1])*int(a[1][1][1])*int(a[2][2][0]))\n",
    "    t = (int(a[0][0][1])*int(a[1][1][1])*int(a[2][2][1]))\n",
    "    print(str(p)+\"/\"+str(t))\n",
    "r,c = (3,3)    \n",
    "a = [[0 for i in range(c)]for j in range (r)]\n",
    "arr(a,r,c)\n",
    "tran(a,r,c)\n",
    "tr(a)"
   ]
  },
  {
   "cell_type": "code",
   "execution_count": 14,
   "metadata": {},
   "outputs": [],
   "source": [
    "#Question 3"
   ]
  },
  {
   "cell_type": "code",
   "execution_count": null,
   "metadata": {},
   "outputs": [],
   "source": [
    "D=[[0 for i in range(3)]for j in range(3)]\n",
    "O=[[0 for i in range(3)]for j in range(3)]\n",
    "def OK(a):\n",
    "    for i in range(3):\n",
    "        for j in range(3):\n",
    "            b=[]\n",
    "            b.append(input())\n",
    "            b.append(input())\n",
    "            a[i][j]=b\n",
    "            if b[0]==0 and b[1]==0:\n",
    "                O[i][j]=0\n",
    "            else:\n",
    "                O[i][j]=1\n",
    "    for i in range(3):\n",
    "        for j in range(3):\n",
    "            print(O[i][j],end(\" \"))\n",
    "        print(\"\\n\")    \n",
    "def AND(a):\n",
    "    for i in range(3):\n",
    "        for j in range(3):\n",
    "            b=[]\n",
    "            b.append(input())\n",
    "            b.append(input())\n",
    "            a[i][j]=b\n",
    "            if b[0]==1 and b[1]==1:\n",
    "                D[i][j]=1\n",
    "            else:\n",
    "                D[i][j]=0\n",
    "    for i in range(3):\n",
    "        for j in range(3):\n",
    "            print(D[i][j],end(\" \"))\n",
    "        print(\"\\n\")\n",
    "def SUM():\n",
    "    z=0\n",
    "    for i in range(3):\n",
    "        for j in range(3):\n",
    "            if O[i][j]==D[i][j]:\n",
    "                z=z+((3*i)+j+1)\n",
    "    return z\n",
    "        \n",
    "        \n",
    "        \n"
   ]
  }
 ],
 "metadata": {
  "kernelspec": {
   "display_name": "Python 3",
   "language": "python",
   "name": "python3"
  },
  "language_info": {
   "codemirror_mode": {
    "name": "ipython",
    "version": 3
   },
   "file_extension": ".py",
   "mimetype": "text/x-python",
   "name": "python",
   "nbconvert_exporter": "python",
   "pygments_lexer": "ipython3",
   "version": "3.7.3"
  }
 },
 "nbformat": 4,
 "nbformat_minor": 2
}
